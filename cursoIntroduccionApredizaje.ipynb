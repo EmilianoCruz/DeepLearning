{
  "nbformat": 4,
  "nbformat_minor": 0,
  "metadata": {
    "colab": {
      "provenance": [],
      "authorship_tag": "ABX9TyM6pL3kr8ABAwH/y9KlXejM",
      "include_colab_link": true
    },
    "kernelspec": {
      "name": "python3",
      "display_name": "Python 3"
    },
    "language_info": {
      "name": "python"
    }
  },
  "cells": [
    {
      "cell_type": "markdown",
      "metadata": {
        "id": "view-in-github",
        "colab_type": "text"
      },
      "source": [
        "<a href=\"https://colab.research.google.com/github/EmilianoCruz/DeepLearning/blob/main/cursoIntroduccionApredizaje.ipynb\" target=\"_parent\"><img src=\"https://colab.research.google.com/assets/colab-badge.svg\" alt=\"Open In Colab\"/></a>"
      ]
    },
    {
      "cell_type": "markdown",
      "source": [
        "# Parte 1\n",
        "Emiliano Cruz Ruiz"
      ],
      "metadata": {
        "id": "84lJuJTHnSy7"
      }
    },
    {
      "cell_type": "code",
      "execution_count": 1,
      "metadata": {
        "id": "yTp9dvLOo25D",
        "colab": {
          "base_uri": "https://localhost:8080/"
        },
        "outputId": "ac633c62-6cad-4d56-e462-1368f9f31043"
      },
      "outputs": [
        {
          "output_type": "stream",
          "name": "stdout",
          "text": [
            "Downloading data from https://storage.googleapis.com/tensorflow/tf-keras-datasets/imdb.npz\n",
            "17464789/17464789 [==============================] - 0s 0us/step\n"
          ]
        }
      ],
      "source": [
        "from keras.datasets import imdb\n",
        "(train_data, train_labels),(test_data, test_labels) = imdb.load_data(num_words=10000)"
      ]
    },
    {
      "cell_type": "code",
      "source": [
        "print(train_data[5])\n",
        "print(train_labels[5])"
      ],
      "metadata": {
        "colab": {
          "base_uri": "https://localhost:8080/"
        },
        "id": "Co7DJ3bLxGnT",
        "outputId": "b146c697-124c-49d8-b13f-18204b75b2e1"
      },
      "execution_count": 2,
      "outputs": [
        {
          "output_type": "stream",
          "name": "stdout",
          "text": [
            "[1, 778, 128, 74, 12, 630, 163, 15, 4, 1766, 7982, 1051, 2, 32, 85, 156, 45, 40, 148, 139, 121, 664, 665, 10, 10, 1361, 173, 4, 749, 2, 16, 3804, 8, 4, 226, 65, 12, 43, 127, 24, 2, 10, 10]\n",
            "0\n"
          ]
        }
      ]
    },
    {
      "cell_type": "code",
      "source": [
        "max([max(sequence) for sequence in train_data])"
      ],
      "metadata": {
        "colab": {
          "base_uri": "https://localhost:8080/"
        },
        "id": "eUiUJ4VxxOL2",
        "outputId": "e3b808d7-a89c-428f-a0e4-5c64fa609a64"
      },
      "execution_count": 3,
      "outputs": [
        {
          "output_type": "execute_result",
          "data": {
            "text/plain": [
              "9999"
            ]
          },
          "metadata": {},
          "execution_count": 3
        }
      ]
    },
    {
      "cell_type": "code",
      "source": [
        "word_index = imdb.get_word_index()\n",
        "reseverse_word_index = dict([(value, key) for (key, value) in word_index.items()])\n",
        "decoded_review = ' '.join([reseverse_word_index.get(i-3,'?') for i in train_data[17]])\n",
        "print(decoded_review)"
      ],
      "metadata": {
        "colab": {
          "base_uri": "https://localhost:8080/"
        },
        "id": "5OlYpLw4xWWu",
        "outputId": "3411ac51-23c3-45e6-ce22-5ac8598d2d5f"
      },
      "execution_count": 4,
      "outputs": [
        {
          "output_type": "stream",
          "name": "stdout",
          "text": [
            "Downloading data from https://storage.googleapis.com/tensorflow/tf-keras-datasets/imdb_word_index.json\n",
            "1641221/1641221 [==============================] - 0s 0us/step\n",
            "? at the height of the ? big ? racism row in 2007 involving ? ? and the late ? ? i condemned on an internet forum those ? b b ' fans who praised the show after years of bashing ? ? sitcoms such as ? ? ? ? ? i thought they were being ? and said so ? ain't half hot ? was then thrown into the argument with some pointing out it had starred an english actor ? up well yes but michael bates had lived in india as a boy and spoke ? ? the show's ? overlook the reality he brought to his performance as ? ? ? the noted indian character actor ? ? said in a 1995 documentary ? ? the ? that he was upset when he heard bates had landed the role but added no indian actor could have played that role as well as bates indeed br br ? was perry and ? companion show to ? ? also set in wartime the ? english town of ? on sea had been replaced by the hot steamy ? of india in particularly a place called ? where an army concert party puts on shows for the troops among them ? ? george ? his first sitcom role since ? in ? camp ? ? ? melvyn hayes ? ? ? ? ? de ? ? graham john ? and ? ? the late christopher mitchell ? over this gang of ? was the ? sergeant major williams the brilliant ? davies who regarded them all as ? his frustration at not being able to lead his men up the jungle to engage the enemy in combat made him bitter and bullying though he was nice to ? whom he thought was his ? son then there was ever so english colonel reynolds donald ? and ? captain ? michael ? ? was like a wise old ? beginning each show by talking to the camera and closing them by ? obscure ? ? he loved being ? so much he came to regard himself as practically british his friends were the tea making ? ? the late ? ? who went on to ? your ? and the rope pulling ? ? ? ? so real indians featured in the show another point its ? ignore ? also provided what was described on the credits as ? ? similar to the ? songs used as incidental music on ? ? each edition closed with him ? ? of hope ? only to be ? by a ? up ' from williams the excellent opening theme was penned by jimmy perry and derek ? br br though never quite ? ? ? in the ? affections ? nevertheless was popular enough to run for a total of eight seasons in 1975 davies and ? topped the ? with a cover version of that old ? ? ? they then recorded an entire album of old ? entitled what else ? ? ' br br the show hit crisis point three years later when bates died of cancer rather than ? the role of ? the writers just let him be quietly forgotten when george ? left the character of ? took his place as ? providing another source of comedy br br the last edition in 1981 saw the soldiers leave india by boat for ? the ? ? watching them go with great sadness as did viewers br br repeats have been few and far between mainly on u k gold all because of its so called ? reputation this is strange for one thing the show was not specifically about racism if a white man ? up is so wrong why does david ? 1984 film 'a passage to ? still get shown on television it featured alec guinness as an indian and won two oscars it was derived from jimmy ? own experiences some characters were based on real people the sergeant major really did refer to his men as ? i take the view that if you are going to put history on television get it right ? the past no matter how ? it might seem to modern audiences is ? ? ? was both funny and truthful and viewers saw this thank heavens for d v d 's i say time to stop this review as williams would say i'll have no ? in this jungle\n"
          ]
        }
      ]
    },
    {
      "cell_type": "code",
      "source": [
        "#ONE HOT ENCODING\n",
        "import numpy as np\n",
        "def vectorize_sequences(sequences, dimension=10000):\n",
        "    results = np.zeros((len(sequences), dimension))\n",
        "    for i, sequence in enumerate(sequences):\n",
        "        results[i, sequence] = 1.\n",
        "    return results\n",
        "\n",
        "x_train = vectorize_sequences(train_data)\n",
        "x_test = vectorize_sequences(test_data)"
      ],
      "metadata": {
        "id": "2f3jMoa71zw4"
      },
      "execution_count": 5,
      "outputs": []
    },
    {
      "cell_type": "code",
      "source": [
        "#Print an example of one hot encoded sample\n",
        "print(x_train[0])"
      ],
      "metadata": {
        "colab": {
          "base_uri": "https://localhost:8080/"
        },
        "id": "2mx4cGKF2SM7",
        "outputId": "5cf41d69-4914-4eb7-dc2d-b50c14d68b46"
      },
      "execution_count": 6,
      "outputs": [
        {
          "output_type": "stream",
          "name": "stdout",
          "text": [
            "[0. 1. 1. ... 0. 0. 0.]\n"
          ]
        }
      ]
    },
    {
      "cell_type": "code",
      "source": [
        "#Vectorizing labels\n",
        "y_train = np.asarray(train_labels).astype('float32')\n",
        "y_test = np.asarray(test_labels).astype('float32')"
      ],
      "metadata": {
        "id": "u-_FruMr5ID5"
      },
      "execution_count": 7,
      "outputs": []
    },
    {
      "cell_type": "code",
      "source": [
        "from keras import models\n",
        "from keras import layers\n",
        "model = models.Sequential() #Forma de construir la red, de forma secuencial\n",
        "model.add(layers. Dense (16, activation='relu', input_shape=(10000,))) #16 es el numero de neuronas\n",
        "model.add(layers.Dense (16, activation='relu')) #Se añade una segunda capa densa con 16 neuronas\n",
        "model.add(layers.Dense(1, activation='sigmoid')) #Capa 3 con 1 neurona y una sola salida, con la activacion simgoid\n"
      ],
      "metadata": {
        "id": "GRUa9Pgb5KIy"
      },
      "execution_count": 8,
      "outputs": []
    },
    {
      "cell_type": "code",
      "source": [
        "model.compile(optimizer='rmsprop',\n",
        "loss='binary_crossentropy',\n",
        "metrics=['accuracy'])"
      ],
      "metadata": {
        "id": "ul5pWr8e6ka_"
      },
      "execution_count": 9,
      "outputs": []
    },
    {
      "cell_type": "code",
      "source": [
        "x_val = x_train[:10000]\n",
        "partial_x_train = x_train[10000:]\n",
        "y_val = y_train[:10000]\n",
        "partial_y_train = y_train [10000:]\n"
      ],
      "metadata": {
        "id": "LaVNtl_o9V0t"
      },
      "execution_count": 10,
      "outputs": []
    },
    {
      "cell_type": "code",
      "source": [
        "history = model.fit(partial_x_train,\n",
        "partial_y_train,\n",
        "epochs=20,\n",
        "batch_size=512,\n",
        "validation_data=(x_val, y_val))"
      ],
      "metadata": {
        "colab": {
          "base_uri": "https://localhost:8080/"
        },
        "id": "EH5SZVIM9XJY",
        "outputId": "fd0da96e-f197-4acd-9b74-d26245dc9e12"
      },
      "execution_count": 11,
      "outputs": [
        {
          "output_type": "stream",
          "name": "stdout",
          "text": [
            "Epoch 1/20\n",
            "30/30 [==============================] - 5s 130ms/step - loss: 0.5239 - accuracy: 0.7790 - val_loss: 0.4065 - val_accuracy: 0.8517\n",
            "Epoch 2/20\n",
            "30/30 [==============================] - 1s 39ms/step - loss: 0.3269 - accuracy: 0.8962 - val_loss: 0.3147 - val_accuracy: 0.8846\n",
            "Epoch 3/20\n",
            "30/30 [==============================] - 1s 46ms/step - loss: 0.2450 - accuracy: 0.9221 - val_loss: 0.3227 - val_accuracy: 0.8684\n",
            "Epoch 4/20\n",
            "30/30 [==============================] - 2s 56ms/step - loss: 0.1981 - accuracy: 0.9344 - val_loss: 0.2753 - val_accuracy: 0.8895\n",
            "Epoch 5/20\n",
            "30/30 [==============================] - 1s 43ms/step - loss: 0.1640 - accuracy: 0.9473 - val_loss: 0.2943 - val_accuracy: 0.8836\n",
            "Epoch 6/20\n",
            "30/30 [==============================] - 1s 46ms/step - loss: 0.1389 - accuracy: 0.9583 - val_loss: 0.2808 - val_accuracy: 0.8859\n",
            "Epoch 7/20\n",
            "30/30 [==============================] - 2s 54ms/step - loss: 0.1194 - accuracy: 0.9641 - val_loss: 0.3140 - val_accuracy: 0.8809\n",
            "Epoch 8/20\n",
            "30/30 [==============================] - 2s 55ms/step - loss: 0.1013 - accuracy: 0.9712 - val_loss: 0.3039 - val_accuracy: 0.8840\n",
            "Epoch 9/20\n",
            "30/30 [==============================] - 2s 65ms/step - loss: 0.0863 - accuracy: 0.9761 - val_loss: 0.3318 - val_accuracy: 0.8773\n",
            "Epoch 10/20\n",
            "30/30 [==============================] - 2s 57ms/step - loss: 0.0746 - accuracy: 0.9811 - val_loss: 0.3354 - val_accuracy: 0.8824\n",
            "Epoch 11/20\n",
            "30/30 [==============================] - 1s 44ms/step - loss: 0.0626 - accuracy: 0.9847 - val_loss: 0.3591 - val_accuracy: 0.8814\n",
            "Epoch 12/20\n",
            "30/30 [==============================] - 1s 44ms/step - loss: 0.0575 - accuracy: 0.9860 - val_loss: 0.3721 - val_accuracy: 0.8777\n",
            "Epoch 13/20\n",
            "30/30 [==============================] - 1s 45ms/step - loss: 0.0458 - accuracy: 0.9905 - val_loss: 0.4410 - val_accuracy: 0.8622\n",
            "Epoch 14/20\n",
            "30/30 [==============================] - 1s 43ms/step - loss: 0.0395 - accuracy: 0.9923 - val_loss: 0.4114 - val_accuracy: 0.8784\n",
            "Epoch 15/20\n",
            "30/30 [==============================] - 2s 54ms/step - loss: 0.0318 - accuracy: 0.9947 - val_loss: 0.4304 - val_accuracy: 0.8734\n",
            "Epoch 16/20\n",
            "30/30 [==============================] - 1s 46ms/step - loss: 0.0271 - accuracy: 0.9955 - val_loss: 0.4540 - val_accuracy: 0.8737\n",
            "Epoch 17/20\n",
            "30/30 [==============================] - 2s 54ms/step - loss: 0.0241 - accuracy: 0.9959 - val_loss: 0.4750 - val_accuracy: 0.8754\n",
            "Epoch 18/20\n",
            "30/30 [==============================] - 3s 90ms/step - loss: 0.0169 - accuracy: 0.9985 - val_loss: 0.4995 - val_accuracy: 0.8741\n",
            "Epoch 19/20\n",
            "30/30 [==============================] - 1s 48ms/step - loss: 0.0164 - accuracy: 0.9980 - val_loss: 0.5208 - val_accuracy: 0.8728\n",
            "Epoch 20/20\n",
            "30/30 [==============================] - 1s 43ms/step - loss: 0.0131 - accuracy: 0.9990 - val_loss: 0.5455 - val_accuracy: 0.8700\n"
          ]
        }
      ]
    },
    {
      "cell_type": "code",
      "source": [
        "#Consulting the history\n",
        "history_dict = history.history\n",
        "print( history_dict.keys())"
      ],
      "metadata": {
        "colab": {
          "base_uri": "https://localhost:8080/"
        },
        "id": "idPPLVry-KGc",
        "outputId": "18d1c9f6-1fbb-424d-aa26-e2c9c43f932a"
      },
      "execution_count": 12,
      "outputs": [
        {
          "output_type": "stream",
          "name": "stdout",
          "text": [
            "dict_keys(['loss', 'accuracy', 'val_loss', 'val_accuracy'])\n"
          ]
        }
      ]
    },
    {
      "cell_type": "code",
      "source": [
        "#Plotting the loss\n",
        "import matplotlib.pyplot as plt\n",
        "history_dict = history.history\n",
        "loss_values = history_dict['loss']\n",
        "val_loss_values = history_dict['val_loss']\n",
        "epochs = range(1, 20 + 1)\n",
        "plt.plot(epochs, loss_values, 'bo', label='Training loss')\n",
        "plt.plot(epochs, val_loss_values, 'b', label='Validation loss')\n",
        "plt.title('Training and validation loss')\n",
        "plt.xlabel('Epochs')\n",
        "plt.ylabel('Loss')\n",
        "plt.legend()\n",
        "plt.show()"
      ],
      "metadata": {
        "colab": {
          "base_uri": "https://localhost:8080/",
          "height": 472
        },
        "id": "sfxy1Iq2-KzB",
        "outputId": "3f0541cc-85c0-4c1a-8b27-881abb07d998"
      },
      "execution_count": 13,
      "outputs": [
        {
          "output_type": "display_data",
          "data": {
            "text/plain": [
              "<Figure size 640x480 with 1 Axes>"
            ],
            "image/png": "[encoded data removed]"
          },
          "metadata": {}
        }
      ]
    },
    {
      "cell_type": "code",
      "source": [
        "plt.clf()\n",
        "acc_values = history_dict['accuracy']\n",
        "val_acc_values = history_dict['val_accuracy']\n",
        "plt.plot(epochs, acc_values, 'bo', label='Training acc')\n",
        "plt.plot(epochs, val_acc_values, 'b', label='Validation acc')\n",
        "plt.title('Training and validation accuracy')\n",
        "plt.xlabel('Epochs')\n",
        "plt.ylabel('Loss')\n",
        "plt.legend()\n",
        "plt.show()"
      ],
      "metadata": {
        "colab": {
          "base_uri": "https://localhost:8080/",
          "height": 472
        },
        "id": "rXDgwQIzGktz",
        "outputId": "edf4eea0-90de-4e22-8e35-8d80ed3371ad"
      },
      "execution_count": 14,
      "outputs": [
        {
          "output_type": "display_data",
          "data": {
            "text/plain": [
              "<Figure size 640x480 with 1 Axes>"
            ],
            "image/png": "[encoded data removed]"
          },
          "metadata": {}
        }
      ]
    },
    {
      "cell_type": "code",
      "source": [
        "model = models.Sequential()\n",
        "model.add(layers.Dense (16, activation='relu', input_shape=(10000,)))\n",
        "model.add(layers. Dense (16, activation='relu'))\n",
        "model.add(layers. Dense (1, activation='sigmoid'))\n",
        "model.compile(optimizer='rmsprop',\n",
        "loss='binary_crossentropy',\n",
        "metrics=['accuracy'])\n",
        "model.fit(x_train, y_train, epochs=4, batch_size=512)\n",
        "results = model.evaluate(x_test, y_test)"
      ],
      "metadata": {
        "colab": {
          "base_uri": "https://localhost:8080/"
        },
        "id": "j7GGW2EsG6fR",
        "outputId": "6d83aad2-8068-4aae-ca1b-50fd5d1ed450"
      },
      "execution_count": 15,
      "outputs": [
        {
          "output_type": "stream",
          "name": "stdout",
          "text": [
            "Epoch 1/4\n",
            "49/49 [==============================] - 2s 32ms/step - loss: 0.4914 - accuracy: 0.8107\n",
            "Epoch 2/4\n",
            "49/49 [==============================] - 2s 32ms/step - loss: 0.2950 - accuracy: 0.8971\n",
            "Epoch 3/4\n",
            "49/49 [==============================] - 2s 31ms/step - loss: 0.2283 - accuracy: 0.9178\n",
            "Epoch 4/4\n",
            "49/49 [==============================] - 2s 31ms/step - loss: 0.1927 - accuracy: 0.9306\n",
            "782/782 [==============================] - 3s 3ms/step - loss: 0.2853 - accuracy: 0.8867\n"
          ]
        }
      ]
    },
    {
      "cell_type": "code",
      "source": [
        "print(results)"
      ],
      "metadata": {
        "colab": {
          "base_uri": "https://localhost:8080/"
        },
        "id": "KnqRiZnXHX7k",
        "outputId": "dd800681-a900-42fd-aacd-fb49a87ce485"
      },
      "execution_count": 16,
      "outputs": [
        {
          "output_type": "stream",
          "name": "stdout",
          "text": [
            "[0.2853335738182068, 0.886680006980896]\n"
          ]
        }
      ]
    },
    {
      "cell_type": "code",
      "source": [
        "model.predict(x_test)"
      ],
      "metadata": {
        "id": "7i3K5jIUHZS6",
        "colab": {
          "base_uri": "https://localhost:8080/"
        },
        "outputId": "480fa31c-2b87-4e53-ef68-15442531aca3"
      },
      "execution_count": 17,
      "outputs": [
        {
          "output_type": "stream",
          "name": "stdout",
          "text": [
            "782/782 [==============================] - 4s 5ms/step\n"
          ]
        },
        {
          "output_type": "execute_result",
          "data": {
            "text/plain": [
              "array([[0.22873391],\n",
              "       [0.9999409 ],\n",
              "       [0.89721715],\n",
              "       ...,\n",
              "       [0.13186057],\n",
              "       [0.09644233],\n",
              "       [0.61537874]], dtype=float32)"
            ]
          },
          "metadata": {},
          "execution_count": 17
        }
      ]
    },
    {
      "cell_type": "markdown",
      "source": [
        "#Parte 2"
      ],
      "metadata": {
        "id": "sn-piphfC1sD"
      }
    },
    {
      "cell_type": "code",
      "source": [
        "from keras.datasets import mnist\n",
        "(train_images, train_labels), (test_images, test_labels)=mnist.load_data()\n"
      ],
      "metadata": {
        "id": "Sird6ZmaDDob",
        "colab": {
          "base_uri": "https://localhost:8080/"
        },
        "outputId": "3bd16736-666b-4497-e8c9-a22bab103202"
      },
      "execution_count": 18,
      "outputs": [
        {
          "output_type": "stream",
          "name": "stdout",
          "text": [
            "Downloading data from https://storage.googleapis.com/tensorflow/tf-keras-datasets/mnist.npz\n",
            "11490434/11490434 [==============================] - 0s 0us/step\n"
          ]
        }
      ]
    },
    {
      "cell_type": "code",
      "source": [
        "print(train_images.shape)\n",
        "print(len(train_labels))\n",
        "print(train_labels)"
      ],
      "metadata": {
        "id": "mfo6T8GkDaYX",
        "colab": {
          "base_uri": "https://localhost:8080/"
        },
        "outputId": "4b7434ad-2f04-45f1-f21a-7ed3d1292998"
      },
      "execution_count": 19,
      "outputs": [
        {
          "output_type": "stream",
          "name": "stdout",
          "text": [
            "(60000, 28, 28)\n",
            "60000\n",
            "[5 0 4 ... 5 6 8]\n"
          ]
        }
      ]
    },
    {
      "cell_type": "code",
      "source": [
        "print(test_images.shape)\n",
        "print(len(test_labels))\n",
        "print(test_labels)"
      ],
      "metadata": {
        "id": "RMfwfrHDDmJC",
        "colab": {
          "base_uri": "https://localhost:8080/"
        },
        "outputId": "4c481fd0-7251-4bb7-dd17-31514d3085c1"
      },
      "execution_count": 20,
      "outputs": [
        {
          "output_type": "stream",
          "name": "stdout",
          "text": [
            "(10000, 28, 28)\n",
            "10000\n",
            "[7 2 1 ... 4 5 6]\n"
          ]
        }
      ]
    },
    {
      "cell_type": "code",
      "source": [
        "digit = train_images[18]\n",
        "import matplotlib.pyplot as plt\n",
        "plt.imshow(digit, cmap = plt.cm.binary)\n",
        "plt.show()"
      ],
      "metadata": {
        "id": "a7s71Ve8DwH_",
        "colab": {
          "base_uri": "https://localhost:8080/",
          "height": 430
        },
        "outputId": "e64bca51-9ca5-4bd7-cab1-985c3940b811"
      },
      "execution_count": 21,
      "outputs": [
        {
          "output_type": "display_data",
          "data": {
            "text/plain": [
              "<Figure size 640x480 with 1 Axes>"
            ],
            "image/png": "[encoded data removed]"
          },
          "metadata": {}
        }
      ]
    },
    {
      "cell_type": "code",
      "source": [
        "train_images = train_images.reshape((60000,28*28))\n",
        "train_images = train_images.astype('float32')/255\n",
        "test_images = test_images.reshape((10000,28*28))\n",
        "test_images= test_images.astype('float32')/255"
      ],
      "metadata": {
        "id": "VBt_LVt4D9mA"
      },
      "execution_count": 22,
      "outputs": []
    },
    {
      "cell_type": "code",
      "source": [
        "from keras. utils import to_categorical\n",
        "train_labels = to_categorical(train_labels)\n",
        "test_labels = to_categorical(test_labels)"
      ],
      "metadata": {
        "id": "cTtWO-OLEcRj"
      },
      "execution_count": 23,
      "outputs": []
    },
    {
      "cell_type": "code",
      "source": [
        "print(train_labels[18])"
      ],
      "metadata": {
        "id": "L0pnYBCVEpm8",
        "colab": {
          "base_uri": "https://localhost:8080/"
        },
        "outputId": "a933736d-7cc6-4aac-9c25-acd06d003dd8"
      },
      "execution_count": 24,
      "outputs": [
        {
          "output_type": "stream",
          "name": "stdout",
          "text": [
            "[0. 0. 0. 0. 0. 0. 1. 0. 0. 0.]\n"
          ]
        }
      ]
    },
    {
      "cell_type": "code",
      "source": [
        "from keras import models\n",
        "from keras import layers\n",
        "network = models.Sequential()\n",
        "network.add(layers.Dense(512,activation = 'relu', input_shape=(28*28,)))\n",
        "network.add(layers.Dense(10,activation = 'softmax'))"
      ],
      "metadata": {
        "id": "LAhuavoCErRA"
      },
      "execution_count": 25,
      "outputs": []
    },
    {
      "cell_type": "code",
      "source": [
        "network.compile(optimizer='rmsprop',\n",
        "loss = 'categorical_crossentropy',\n",
        "metrics =['accuracy'])"
      ],
      "metadata": {
        "id": "fHloVyuSFHXf"
      },
      "execution_count": 26,
      "outputs": []
    },
    {
      "cell_type": "code",
      "source": [
        "network.fit(train_images, train_labels, epochs=5, batch_size=128)"
      ],
      "metadata": {
        "id": "KgQTkppiFUlt",
        "colab": {
          "base_uri": "https://localhost:8080/"
        },
        "outputId": "2e849bc6-d284-4016-a909-a6171a6ab897"
      },
      "execution_count": 27,
      "outputs": [
        {
          "output_type": "stream",
          "name": "stdout",
          "text": [
            "Epoch 1/5\n",
            "469/469 [==============================] - 6s 11ms/step - loss: 0.2609 - accuracy: 0.9244\n",
            "Epoch 2/5\n",
            "469/469 [==============================] - 7s 14ms/step - loss: 0.1065 - accuracy: 0.9684\n",
            "Epoch 3/5\n",
            "469/469 [==============================] - 5s 11ms/step - loss: 0.0699 - accuracy: 0.9793\n",
            "Epoch 4/5\n",
            "469/469 [==============================] - 5s 11ms/step - loss: 0.0499 - accuracy: 0.9848\n",
            "Epoch 5/5\n",
            "469/469 [==============================] - 6s 13ms/step - loss: 0.0372 - accuracy: 0.9888\n"
          ]
        },
        {
          "output_type": "execute_result",
          "data": {
            "text/plain": [
              "<keras.src.callbacks.History at 0x7be059aca4a0>"
            ]
          },
          "metadata": {},
          "execution_count": 27
        }
      ]
    },
    {
      "cell_type": "code",
      "source": [
        "test_loss, test_acc = network.evaluate(test_images, test_labels)\n",
        "print('test_acc:', test_acc)"
      ],
      "metadata": {
        "id": "hUUDsxX1FcVI",
        "colab": {
          "base_uri": "https://localhost:8080/"
        },
        "outputId": "b36e6a86-1c97-421f-f32a-4b5d034d7c2b"
      },
      "execution_count": 28,
      "outputs": [
        {
          "output_type": "stream",
          "name": "stdout",
          "text": [
            "313/313 [==============================] - 1s 3ms/step - loss: 0.0782 - accuracy: 0.9771\n",
            "test_acc: 0.9771000146865845\n"
          ]
        }
      ]
    },
    {
      "cell_type": "markdown",
      "source": [
        "#Parte 3"
      ],
      "metadata": {
        "id": "6z5Ljn0uDm0A"
      }
    },
    {
      "cell_type": "code",
      "source": [
        "from keras.datasets import boston_housing\n",
        "(train_data, train_targets), (test_data, test_targets) = boston_housing.load_data()"
      ],
      "metadata": {
        "colab": {
          "base_uri": "https://localhost:8080/"
        },
        "id": "wwpa3gM4DmnS",
        "outputId": "7f92fe9b-74e6-49b7-bcf0-641fc03b9d6d"
      },
      "execution_count": 29,
      "outputs": [
        {
          "output_type": "stream",
          "name": "stdout",
          "text": [
            "Downloading data from https://storage.googleapis.com/tensorflow/tf-keras-datasets/boston_housing.npz\n",
            "57026/57026 [==============================] - 0s 0us/step\n"
          ]
        }
      ]
    },
    {
      "cell_type": "code",
      "source": [
        "print(train_data.shape)\n",
        "print(test_data.shape)\n",
        "print(train_data[0])\n",
        "print(train_targets[0])"
      ],
      "metadata": {
        "colab": {
          "base_uri": "https://localhost:8080/"
        },
        "id": "v-XJeURYD2np",
        "outputId": "f40384e1-938d-4435-b875-6e58004b0ebc"
      },
      "execution_count": 30,
      "outputs": [
        {
          "output_type": "stream",
          "name": "stdout",
          "text": [
            "(404, 13)\n",
            "(102, 13)\n",
            "[  1.23247   0.        8.14      0.        0.538     6.142    91.7\n",
            "   3.9769    4.      307.       21.      396.9      18.72   ]\n",
            "15.2\n"
          ]
        }
      ]
    },
    {
      "cell_type": "code",
      "source": [
        "#Normalizing the data\n",
        "mean = train_data.mean(axis=0)\n",
        "train_data -=mean\n",
        "std = train_data.std(axis=0)\n",
        "train_data /= std\n",
        "test_data -= mean\n",
        "test_data /= std"
      ],
      "metadata": {
        "id": "dPuRV_V_EGRc"
      },
      "execution_count": 31,
      "outputs": []
    },
    {
      "cell_type": "code",
      "source": [
        "from keras import models\n",
        "from keras import layers\n",
        "network = models.Sequential()\n",
        "network.add(layers.Dense(64, activation ='relu', input_shape=(train_data.shape[1],)))\n",
        "network.add(layers.Dense(64, activation ='relu'))\n",
        "network.add(layers.Dense(1))"
      ],
      "metadata": {
        "id": "UDpdTXe7EXx7"
      },
      "execution_count": 32,
      "outputs": []
    },
    {
      "cell_type": "code",
      "source": [
        "network.compile(optimizer = 'rmsprop', loss='mse', metrics = ['mae'])"
      ],
      "metadata": {
        "id": "yhtDzyQ6E06Q"
      },
      "execution_count": 33,
      "outputs": []
    },
    {
      "cell_type": "code",
      "source": [
        "network.fit (train_data, train_targets, epochs=20,batch_size =1)"
      ],
      "metadata": {
        "colab": {
          "base_uri": "https://localhost:8080/"
        },
        "id": "GgBQwCaSE-OU",
        "outputId": "c9e31440-8746-4a7d-b97d-3115c6889e5e"
      },
      "execution_count": 34,
      "outputs": [
        {
          "output_type": "stream",
          "name": "stdout",
          "text": [
            "Epoch 1/20\n",
            "404/404 [==============================] - 1s 2ms/step - loss: 174.2906 - mae: 9.5912\n",
            "Epoch 2/20\n",
            "404/404 [==============================] - 1s 2ms/step - loss: 23.8531 - mae: 3.1813\n",
            "Epoch 3/20\n",
            "404/404 [==============================] - 1s 2ms/step - loss: 18.2892 - mae: 2.8274\n",
            "Epoch 4/20\n",
            "404/404 [==============================] - 1s 2ms/step - loss: 15.4732 - mae: 2.5968\n",
            "Epoch 5/20\n",
            "404/404 [==============================] - 1s 2ms/step - loss: 13.8581 - mae: 2.4571\n",
            "Epoch 6/20\n",
            "404/404 [==============================] - 1s 2ms/step - loss: 12.7636 - mae: 2.3655\n",
            "Epoch 7/20\n",
            "404/404 [==============================] - 1s 3ms/step - loss: 11.9503 - mae: 2.3036\n",
            "Epoch 8/20\n",
            "404/404 [==============================] - 1s 3ms/step - loss: 11.6116 - mae: 2.2425\n",
            "Epoch 9/20\n",
            "404/404 [==============================] - 1s 3ms/step - loss: 11.0695 - mae: 2.2289\n",
            "Epoch 10/20\n",
            "404/404 [==============================] - 1s 2ms/step - loss: 10.4905 - mae: 2.1846\n",
            "Epoch 11/20\n",
            "404/404 [==============================] - 1s 2ms/step - loss: 9.9521 - mae: 2.1239\n",
            "Epoch 12/20\n",
            "404/404 [==============================] - 1s 2ms/step - loss: 9.8808 - mae: 2.2004\n",
            "Epoch 13/20\n",
            "404/404 [==============================] - 1s 2ms/step - loss: 9.8955 - mae: 2.1516\n",
            "Epoch 14/20\n",
            "404/404 [==============================] - 1s 2ms/step - loss: 8.8849 - mae: 2.0515\n",
            "Epoch 15/20\n",
            "404/404 [==============================] - 1s 2ms/step - loss: 9.6045 - mae: 2.0773\n",
            "Epoch 16/20\n",
            "404/404 [==============================] - 1s 2ms/step - loss: 8.9348 - mae: 2.0429\n",
            "Epoch 17/20\n",
            "404/404 [==============================] - 1s 2ms/step - loss: 8.7593 - mae: 2.0440\n",
            "Epoch 18/20\n",
            "404/404 [==============================] - 1s 2ms/step - loss: 8.8500 - mae: 2.0212\n",
            "Epoch 19/20\n",
            "404/404 [==============================] - 1s 2ms/step - loss: 8.6528 - mae: 1.9613\n",
            "Epoch 20/20\n",
            "404/404 [==============================] - 1s 2ms/step - loss: 7.8900 - mae: 1.9615\n"
          ]
        },
        {
          "output_type": "execute_result",
          "data": {
            "text/plain": [
              "<keras.src.callbacks.History at 0x7be05853df00>"
            ]
          },
          "metadata": {},
          "execution_count": 34
        }
      ]
    },
    {
      "cell_type": "code",
      "source": [
        "test_loss, test_acc = network.evaluate(test_data,test_targets)\n",
        "print(test_loss)\n",
        "print(test_acc)"
      ],
      "metadata": {
        "colab": {
          "base_uri": "https://localhost:8080/"
        },
        "id": "zgzBc7zoFE-r",
        "outputId": "c7b7a613-67a0-4f1c-9fd8-8f1c42a50d33"
      },
      "execution_count": 35,
      "outputs": [
        {
          "output_type": "stream",
          "name": "stdout",
          "text": [
            "4/4 [==============================] - 0s 5ms/step - loss: 22.6233 - mae: 2.9852\n",
            "22.62329864501953\n",
            "2.985156774520874\n"
          ]
        }
      ]
    }
  ]
}